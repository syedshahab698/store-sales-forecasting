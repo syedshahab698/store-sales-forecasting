{
 "cells": [
  {
   "cell_type": "code",
   "execution_count": 1,
   "metadata": {},
   "outputs": [],
   "source": [
    "import os\n",
    "import pandas as pd\n",
    "from ipywidgets.widgets import Dropdown, interact\n",
    "from ipywidgets import Button, HBox, VBox, interactive_output\n"
   ]
  },
  {
   "cell_type": "code",
   "execution_count": 2,
   "metadata": {},
   "outputs": [
    {
     "data": {
      "text/plain": [
       "['holidays_events.parquet.gzip',\n",
       " 'oil.parquet.gzip',\n",
       " 'sample_submission.parquet.gzip',\n",
       " 'stores.parquet.gzip',\n",
       " 'test.parquet.gzip',\n",
       " 'train.parquet.gzip',\n",
       " 'transactions.parquet.gzip']"
      ]
     },
     "execution_count": 2,
     "metadata": {},
     "output_type": "execute_result"
    }
   ],
   "source": [
    "os.listdir('data')"
   ]
  },
  {
   "cell_type": "code",
   "execution_count": 67,
   "metadata": {},
   "outputs": [
    {
     "data": {
      "text/plain": [
       "dict_keys(['holidays_events', 'oil', 'sample_submission', 'stores', 'test', 'train', 'transactions'])"
      ]
     },
     "execution_count": 67,
     "metadata": {},
     "output_type": "execute_result"
    }
   ],
   "source": [
    "all_data = {}\n",
    "for file in os.listdir('data'):\n",
    "    filename = file.split('.')[0]\n",
    "    all_data[filename] = pd.read_parquet('data/{}'.format(file),)\n",
    "    \n",
    "all_data.keys()"
   ]
  },
  {
   "cell_type": "code",
   "execution_count": 68,
   "metadata": {},
   "outputs": [],
   "source": [
    "train, stores, holidays_events, oil = (all_data['train'], all_data['stores'], \n",
    "         all_data['holidays_events'], all_data['oil'])\n"
   ]
  },
  {
   "cell_type": "code",
   "execution_count": 69,
   "metadata": {},
   "outputs": [],
   "source": [
    "for data in (train, holidays_events, oil):\n",
    "    data['date'] = data['date'].astype('datetime64[ns]')"
   ]
  },
  {
   "cell_type": "code",
   "execution_count": 70,
   "metadata": {},
   "outputs": [
    {
     "data": {
      "text/html": [
       "<div>\n",
       "<style scoped>\n",
       "    .dataframe tbody tr th:only-of-type {\n",
       "        vertical-align: middle;\n",
       "    }\n",
       "\n",
       "    .dataframe tbody tr th {\n",
       "        vertical-align: top;\n",
       "    }\n",
       "\n",
       "    .dataframe thead th {\n",
       "        text-align: right;\n",
       "    }\n",
       "</style>\n",
       "<table border=\"1\" class=\"dataframe\">\n",
       "  <thead>\n",
       "    <tr style=\"text-align: right;\">\n",
       "      <th></th>\n",
       "      <th>id</th>\n",
       "      <th>date</th>\n",
       "      <th>store_nbr</th>\n",
       "      <th>family</th>\n",
       "      <th>sales</th>\n",
       "      <th>onpromotion</th>\n",
       "      <th>type</th>\n",
       "      <th>locale</th>\n",
       "      <th>locale_name</th>\n",
       "      <th>description</th>\n",
       "      <th>transferred</th>\n",
       "      <th>dcoilwtico</th>\n",
       "    </tr>\n",
       "  </thead>\n",
       "  <tbody>\n",
       "    <tr>\n",
       "      <th>0</th>\n",
       "      <td>0</td>\n",
       "      <td>2013-01-01</td>\n",
       "      <td>1</td>\n",
       "      <td>AUTOMOTIVE</td>\n",
       "      <td>0.0</td>\n",
       "      <td>0</td>\n",
       "      <td>Holiday</td>\n",
       "      <td>National</td>\n",
       "      <td>Ecuador</td>\n",
       "      <td>Primer dia del ano</td>\n",
       "      <td>False</td>\n",
       "      <td>NaN</td>\n",
       "    </tr>\n",
       "    <tr>\n",
       "      <th>1</th>\n",
       "      <td>1</td>\n",
       "      <td>2013-01-01</td>\n",
       "      <td>1</td>\n",
       "      <td>BABY CARE</td>\n",
       "      <td>0.0</td>\n",
       "      <td>0</td>\n",
       "      <td>Holiday</td>\n",
       "      <td>National</td>\n",
       "      <td>Ecuador</td>\n",
       "      <td>Primer dia del ano</td>\n",
       "      <td>False</td>\n",
       "      <td>NaN</td>\n",
       "    </tr>\n",
       "    <tr>\n",
       "      <th>2</th>\n",
       "      <td>2</td>\n",
       "      <td>2013-01-01</td>\n",
       "      <td>1</td>\n",
       "      <td>BEAUTY</td>\n",
       "      <td>0.0</td>\n",
       "      <td>0</td>\n",
       "      <td>Holiday</td>\n",
       "      <td>National</td>\n",
       "      <td>Ecuador</td>\n",
       "      <td>Primer dia del ano</td>\n",
       "      <td>False</td>\n",
       "      <td>NaN</td>\n",
       "    </tr>\n",
       "    <tr>\n",
       "      <th>3</th>\n",
       "      <td>3</td>\n",
       "      <td>2013-01-01</td>\n",
       "      <td>1</td>\n",
       "      <td>BEVERAGES</td>\n",
       "      <td>0.0</td>\n",
       "      <td>0</td>\n",
       "      <td>Holiday</td>\n",
       "      <td>National</td>\n",
       "      <td>Ecuador</td>\n",
       "      <td>Primer dia del ano</td>\n",
       "      <td>False</td>\n",
       "      <td>NaN</td>\n",
       "    </tr>\n",
       "    <tr>\n",
       "      <th>4</th>\n",
       "      <td>4</td>\n",
       "      <td>2013-01-01</td>\n",
       "      <td>1</td>\n",
       "      <td>BOOKS</td>\n",
       "      <td>0.0</td>\n",
       "      <td>0</td>\n",
       "      <td>Holiday</td>\n",
       "      <td>National</td>\n",
       "      <td>Ecuador</td>\n",
       "      <td>Primer dia del ano</td>\n",
       "      <td>False</td>\n",
       "      <td>NaN</td>\n",
       "    </tr>\n",
       "  </tbody>\n",
       "</table>\n",
       "</div>"
      ],
      "text/plain": [
       "   id       date  store_nbr      family  sales  onpromotion     type  \\\n",
       "0   0 2013-01-01          1  AUTOMOTIVE    0.0            0  Holiday   \n",
       "1   1 2013-01-01          1   BABY CARE    0.0            0  Holiday   \n",
       "2   2 2013-01-01          1      BEAUTY    0.0            0  Holiday   \n",
       "3   3 2013-01-01          1   BEVERAGES    0.0            0  Holiday   \n",
       "4   4 2013-01-01          1       BOOKS    0.0            0  Holiday   \n",
       "\n",
       "     locale locale_name         description transferred  dcoilwtico  \n",
       "0  National     Ecuador  Primer dia del ano       False         NaN  \n",
       "1  National     Ecuador  Primer dia del ano       False         NaN  \n",
       "2  National     Ecuador  Primer dia del ano       False         NaN  \n",
       "3  National     Ecuador  Primer dia del ano       False         NaN  \n",
       "4  National     Ecuador  Primer dia del ano       False         NaN  "
      ]
     },
     "execution_count": 70,
     "metadata": {},
     "output_type": "execute_result"
    }
   ],
   "source": [
    "train = train.merge(holidays_events,on='date', how='left').merge(oil,on='date', how='left')\n",
    "train.head()"
   ]
  },
  {
   "cell_type": "code",
   "execution_count": 71,
   "metadata": {},
   "outputs": [
    {
     "data": {
      "application/vnd.jupyter.widget-view+json": {
       "model_id": "4c63c4f161b54557afabde9d91e64800",
       "version_major": 2,
       "version_minor": 0
      },
      "text/plain": [
       "interactive(children=(Dropdown(description='store', options=(1, 2, 3, 4, 5, 6, 7, 8, 9, 10, 11, 12, 13, 14, 15…"
      ]
     },
     "metadata": {},
     "output_type": "display_data"
    }
   ],
   "source": [
    "unique_stores = stores['store_nbr'].unique().tolist()\n",
    "unique_famliy = train['family'].unique().tolist()\n",
    "stores_widget = Dropdown(options = unique_stores)\n",
    "category_widget = Dropdown(options = unique_famliy)\n",
    "\n",
    "# Define a function that updates the content of y based on what we select for x\n",
    "# def update(*args):\n",
    "#     category_widget.options = train.loc[train['store_nbr']==stores_widget.value, 'family'].unique().tolist()\n",
    "# stores_widget.observe(update)\n",
    "\n",
    "# Some function you want executed\n",
    "def plot_data(store, family):\n",
    "    sales = train.loc[(train['store_nbr']==store) & (train['family']==family), ['date', 'sales']] \n",
    "    sales.set_index('date').plot(title = 'Store Number {},  Product Family {}'.format(store, family), figsize=(15,5))\n",
    "    \n",
    "#     fig = go.Figure()\n",
    "#     fig.add_trace(go.Scatter(x=sales['date'], y=sales['sales'],\n",
    "#                         mode='lines',\n",
    "#                         name='{},{}'.format(store, family)))\n",
    "#     fig.update_layout(title_x = 0.5, title = 'Store Number {},  Product Family {}'.format(store, family))\n",
    "#     fig.show()\n",
    "\n",
    "interact(plot_data,\n",
    "         store = stores_widget,\n",
    "         family = category_widget);"
   ]
  },
  {
   "cell_type": "code",
   "execution_count": 72,
   "metadata": {},
   "outputs": [
    {
     "data": {
      "text/plain": [
       "<AxesSubplot:title={'center':'Oil Prices VS Sales  (Scaled Values)'}, xlabel='date'>"
      ]
     },
     "execution_count": 72,
     "metadata": {},
     "output_type": "execute_result"
    },
    {
     "data": {
      "image/png": "[encoded data removed]",
      "text/plain": [
       "<Figure size 432x288 with 1 Axes>"
      ]
     },
     "metadata": {
      "needs_background": "light"
     },
     "output_type": "display_data"
    }
   ],
   "source": [
    "# plotting mean sales and oil prices with normalization\n",
    "def scale_down(X):\n",
    "    X_min = X.min()\n",
    "    X_max = X.max()\n",
    "    return (X - X_min)/(X_max - X_min)\n",
    "train[['date','sales','dcoilwtico']].set_index('date')\\\n",
    "                                    .resample('d')\\\n",
    "                                    .mean()\\\n",
    "                                    .apply(scale_down, axis=0)\\\n",
    "                                    .plot(title = 'Oil Prices VS Sales  (Scaled Values)')"
   ]
  },
  {
   "cell_type": "code",
   "execution_count": 79,
   "metadata": {},
   "outputs": [],
   "source": [
    "holidays_sales = train.loc[train['type'].isin(['Holiday','Event'])].set_index('date')\n",
    "normal_sales = train.loc[~train['type'].isin(['Holiday','Event'])].set_index('date')\n",
    "\n",
    "def plot_daily_sales(df):\n",
    "    return df.resample('d').mean()['sales'].plot(alpha=0.25)\n",
    "\n"
   ]
  },
  {
   "cell_type": "code",
   "execution_count": null,
   "metadata": {},
   "outputs": [],
   "source": []
  }
 ],
 "metadata": {
  "kernelspec": {
   "display_name": "Python 3",
   "language": "python",
   "name": "python3"
  },
  "language_info": {
   "codemirror_mode": {
    "name": "ipython",
    "version": 3
   },
   "file_extension": ".py",
   "mimetype": "text/x-python",
   "name": "python",
   "nbconvert_exporter": "python",
   "pygments_lexer": "ipython3",
   "version": "3.8.3"
  }
 },
 "nbformat": 4,
 "nbformat_minor": 4
}
